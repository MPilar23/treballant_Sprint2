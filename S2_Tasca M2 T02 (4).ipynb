{
 "cells": [
  {
   "cell_type": "markdown",
   "id": "719ed94d-8b38-46d2-ac3c-6bd2da5f8093",
   "metadata": {},
   "source": [
    "#Tasca M2 T02"
   ]
  },
  {
   "cell_type": "markdown",
   "id": "0d138ab7-a1ad-4c1e-965c-6b66b3be4e97",
   "metadata": {},
   "source": [
    "#Exercici 1\n",
    "#L'exercici consisteix a crear una funció que et classifiqui una variable numèrica en funció de l’escala Suspès/Aprovat/Notable/Excel·lent.\r\n",
    "#\r\n",
    "Recorda que Suspès < 5, Aprovat > 5 i < 7, Notable > 7 i < 9 i Excel·lent > 9."
   ]
  },
  {
   "cell_type": "code",
   "execution_count": 2,
   "id": "b638abc5-2226-475f-8a68-f09d4f43e3d3",
   "metadata": {},
   "outputs": [
    {
     "name": "stdout",
     "output_type": "stream",
     "text": [
      "La nota del curs és  Excel·lent . Felicitats!\n"
     ]
    }
   ],
   "source": [
    "\n",
    "\n",
    "escala_notes=[\"Suspens\", \"Aprovat\", \"Notable\", \"Excel·lent\"]\n",
    "#per exemple si la nota és un 9\n",
    "x=9\n",
    "if x < 5:\n",
    "   print(\"La nota del curs és \",escala_notes[0],\".\")\n",
    "elif x >= 5 and x < 7:\n",
    "   print(\"La nota del curs és \",escala_notes[1],\".\")\n",
    "elif x >= 7 and x < 9:\n",
    "   print(\"La nota del curs és \",escala_notes[2],\".\")  \n",
    "else:\n",
    "   print(\"La nota del curs és \",escala_notes[3],\". Felicitats!\")\n",
    "\n"
   ]
  },
  {
   "cell_type": "markdown",
   "id": "59ba6cd2-01f0-435a-987d-30a89e8ce784",
   "metadata": {},
   "source": [
    "#Exercici 2\n",
    "#Utilitzant el següent tutorial crea una funció que et pregunti dos números.\n",
    "#T’ha de mostrar un missatge dient si el primer és més gran, el segon és més gran o són iguals.\n",
    "\n",
    "#Programiz: Python Input, Output and Import"
   ]
  },
  {
   "cell_type": "code",
   "execution_count": 3,
   "id": "418b2a83-e524-41a7-98f3-eee8c3fb4db7",
   "metadata": {},
   "outputs": [
    {
     "name": "stdin",
     "output_type": "stream",
     "text": [
      "introdueix el primer número:  2\n",
      "introdueix el segon número:  2\n"
     ]
    },
    {
     "name": "stdout",
     "output_type": "stream",
     "text": [
      "Has introduït els números:  2 , 2\n",
      "El primer número , 2 , és igual que el segon,  2 .\n"
     ]
    }
   ],
   "source": [
    "x=input(\"introdueix el primer número: \")\n",
    "y=input(\"introdueix el segon número: \")\n",
    "print(\"Has introduït els números: \", x,\",\",y)\n",
    "if x == y:\n",
    "   print(\"El primer número ,\",x,\", és igual que el segon, \",y,\".\")\n",
    "elif x > y:\n",
    "   print(\"El primer número ,\",x,\", és més gran que el segon, \",y,\".\")\n",
    "elif x < y:\n",
    "   print(\"El segon número ,\",y,\", és més gran que el primer, \",x,\".\")\n",
    "    "
   ]
  },
  {
   "cell_type": "markdown",
   "id": "5fca4126-c562-4bde-b9b1-bc4759ed761e",
   "metadata": {},
   "source": [
    "#Exercici 3\n",
    "#Crea una funció que et pregunti el teu nom, i et demani un número. Si el número és 0, hauria de mostrar un missatge d’error. En cas contrari, hauria de mostrar el nom repetit tants cops com indiqui el número. Per exemple, “Joan Joan Joan”."
   ]
  },
  {
   "cell_type": "code",
   "execution_count": 4,
   "id": "6cd609e0-767d-4b3c-b49d-e3b95fe3d373",
   "metadata": {},
   "outputs": [
    {
     "name": "stdin",
     "output_type": "stream",
     "text": [
      "introdueix el teu nom:  lu\n",
      "introdueix un número:  2\n"
     ]
    },
    {
     "name": "stdout",
     "output_type": "stream",
     "text": [
      "Has introduït el nom  lu i el número  2\n",
      "lu\n",
      "lu\n"
     ]
    }
   ],
   "source": [
    "nom=input(\"introdueix el teu nom: \")\n",
    "numero=int(input(\"introdueix un número: \"))\n",
    "print(\"Has introduït el nom \",nom,\"i el número \",numero)\n",
    "if numero==0:\n",
    "    print(\"Error.El sistema no admet aquest valor en la variable número\")\n",
    "else:\n",
    "    i=1\n",
    "    while i<=numero:\n",
    "        print(nom)\n",
    "        i=i+1\n",
    "        \n",
    "\n",
    "\n"
   ]
  },
  {
   "cell_type": "markdown",
   "id": "2e4aa439-5628-47c9-b716-576bfc093cf5",
   "metadata": {},
   "source": [
    "#Exercici 4\n",
    "#Crea una funció que donada una llista qualsevol, et digui si és simètrica o no. Si ho és, que et digui quants elements té."
   ]
  },
  {
   "cell_type": "code",
   "execution_count": 10,
   "id": "98d5b154-6ddd-497e-9c77-99e9d6e9b52e",
   "metadata": {},
   "outputs": [
    {
     "name": "stdout",
     "output_type": "stream",
     "text": [
      "[3]\n",
      "[5]\n",
      "[7]\n",
      "[9]\n",
      "[7]\n",
      "[5]\n",
      "[3]\n"
     ]
    }
   ],
   "source": [
    "mylist=[3, 5, 7, 9, 7, 5, 3]\n",
    "x=len(mylist)\n",
    "for i in reversed(mylist):\n",
    "    rev=list([i])\n",
    "    print(rev)\n",
    "\n",
    "\n",
    "\n",
    "\n"
   ]
  },
  {
   "cell_type": "code",
   "execution_count": 2,
   "id": "42e76143-f44e-4adc-a2a3-1bbab6131397",
   "metadata": {},
   "outputs": [
    {
     "name": "stdout",
     "output_type": "stream",
     "text": [
      "3\n",
      "5\n",
      "7\n",
      "9\n",
      "7\n",
      "5\n",
      "3\n"
     ]
    }
   ],
   "source": [
    "mylist=[3, 5, 7, 9, 7, 5, 3]\n",
    "for item in mylist[ : :-1]:\n",
    "    print(item)"
   ]
  },
  {
   "cell_type": "code",
   "execution_count": 3,
   "id": "df3e8b3f-99b0-40b0-b6ef-f2405c26f235",
   "metadata": {},
   "outputs": [
    {
     "ename": "TypeError",
     "evalue": "'list_reverseiterator' object is not subscriptable",
     "output_type": "error",
     "traceback": [
      "\u001b[1;31m---------------------------------------------------------------------------\u001b[0m",
      "\u001b[1;31mTypeError\u001b[0m                                 Traceback (most recent call last)",
      "Cell \u001b[1;32mIn[3], line 2\u001b[0m\n\u001b[0;32m      1\u001b[0m \u001b[38;5;28;01mfor\u001b[39;00m i \u001b[38;5;129;01min\u001b[39;00m \u001b[38;5;28mrange\u001b[39m(\u001b[38;5;28mlen\u001b[39m(mylist)):\n\u001b[1;32m----> 2\u001b[0m     \u001b[38;5;28;01mif\u001b[39;00m (mylist[i])\u001b[38;5;241m==\u001b[39m(\u001b[38;5;28;43mreversed\u001b[39;49m\u001b[43m(\u001b[49m\u001b[43mmylist\u001b[49m\u001b[43m)\u001b[49m\u001b[43m[\u001b[49m\u001b[43mi\u001b[49m\u001b[43m]\u001b[49m):\n\u001b[0;32m      3\u001b[0m         \u001b[38;5;28mprint\u001b[39m(\u001b[38;5;124m\"\u001b[39m\u001b[38;5;124mLa llista és simètrica.\u001b[39m\u001b[38;5;124m\"\u001b[39m)\n",
      "\u001b[1;31mTypeError\u001b[0m: 'list_reverseiterator' object is not subscriptable"
     ]
    }
   ],
   "source": [
    "for i in range(len(mylist)):\n",
    "    if (mylist[i])==(reversed(mylist)[i]):\n",
    "        print(\"La llista és simètrica.\")\n",
    "        "
   ]
  },
  {
   "cell_type": "code",
   "execution_count": null,
   "id": "b11cea7f-2cd8-46aa-9eda-1e058584ddbc",
   "metadata": {},
   "outputs": [],
   "source": [
    "def simetrica(forward == reverse)\n",
    "forward=input(range(len(mylist)))\n",
    "reverse=input(reversed(mylist))"
   ]
  },
  {
   "cell_type": "code",
   "execution_count": null,
   "id": "646fc928-1080-41f1-893f-e08b55add670",
   "metadata": {},
   "outputs": [],
   "source": [
    "\n",
    "mylist=[3, 5, 7, 7, 5, 3]\n",
    "i=0\n",
    "x=len(mylist)\n",
    "while i <= x/2:\n",
    "    if x%2==0:\n",
    "        if mylist[i]==mylist[x-1]:\n",
    "            if i==x/2:\n",
    "                print(\"La llista és simètrica.\")\n",
    "                i=i+1\n",
    "        else:                          \n",
    "            print(\"La llista no és simètrica.\")\n",
    "\n",
    "\n",
    "\n",
    "\n",
    "\n",
    "\n",
    "\n"
   ]
  },
  {
   "cell_type": "markdown",
   "id": "2edb6cb2-16d3-41fa-8195-ff266f09875a",
   "metadata": {},
   "source": [
    "#Exercici 5\n",
    "#Crea una funció que donada una llista, et digui quants números coincideixen amb la seva posició. Per exemple [3,4,2,0,2,3,6] el 2 i el 6 coincideixen."
   ]
  },
  {
   "cell_type": "code",
   "execution_count": null,
   "id": "72a3443b-0e88-4be6-8d79-fb582894276f",
   "metadata": {},
   "outputs": [],
   "source": [
    "\n",
    "\n",
    "\n",
    "\n",
    "\n",
    "\n",
    "\n",
    "\n",
    "\n",
    "\n",
    "\n",
    "\n",
    "\n",
    "\n"
   ]
  }
 ],
 "metadata": {
  "kernelspec": {
   "display_name": "Python 3 (ipykernel)",
   "language": "python",
   "name": "python3"
  },
  "language_info": {
   "codemirror_mode": {
    "name": "ipython",
    "version": 3
   },
   "file_extension": ".py",
   "mimetype": "text/x-python",
   "name": "python",
   "nbconvert_exporter": "python",
   "pygments_lexer": "ipython3",
   "version": "3.12.0"
  }
 },
 "nbformat": 4,
 "nbformat_minor": 5
}
