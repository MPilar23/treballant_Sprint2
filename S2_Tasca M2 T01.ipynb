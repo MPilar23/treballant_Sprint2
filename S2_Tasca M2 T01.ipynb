{
 "cells": [
  {
   "cell_type": "markdown",
   "id": "ad0a288a",
   "metadata": {},
   "source": [
    "#M2 T01"
   ]
  },
  {
   "cell_type": "markdown",
   "id": "add54a42",
   "metadata": {},
   "source": [
    "#Exercici 1\n",
    "#Cal crear una llista que agrupi els mesos de l'any en trimestres, és a dir, una llista amb quatre llistes."
   ]
  },
  {
   "cell_type": "code",
   "execution_count": 79,
   "id": "7feab29e-8816-42bc-9bb7-76103d8614b4",
   "metadata": {},
   "outputs": [
    {
     "name": "stdout",
     "output_type": "stream",
     "text": [
      "[['Enero', 'Febrero', 'Marzo'], ['Abril', 'Mayo', 'Junio'], ['Julio', 'Agosto', 'Septiembre'], ['Octubre', 'Noviembre', 'Diciembre']]\n"
     ]
    }
   ],
   "source": [
    "listaT1 = [\"Enero\", \"Febrero\", \"Marzo\"]\n",
    "listaT2 = [\"Abril\", \"Mayo\", \"Junio\"]\n",
    "listaT3 = [\"Julio\", \"Agosto\", \"Septiembre\"]\n",
    "listaT4 = [\"Octubre\", \"Noviembre\", \"Diciembre\"]\n",
    "\n",
    "lista_anualidad = [listaT1, listaT2, listaT3, listaT4]\n",
    "print(lista_anualidad)\n"
   ]
  },
  {
   "cell_type": "markdown",
   "id": "ab9a6855",
   "metadata": {},
   "source": [
    "#Exercici 2\n",
    "\n",
    "#Crea un codi que permeti accedir al segon mes del primer trimestre."
   ]
  },
  {
   "cell_type": "code",
   "execution_count": 80,
   "id": "c425f254-a26c-4d59-91e4-72fab01b2db4",
   "metadata": {},
   "outputs": [
    {
     "name": "stdout",
     "output_type": "stream",
     "text": [
      "Febrero\n"
     ]
    }
   ],
   "source": [
    "posicion_trimestre=0\n",
    "x=lista_anualidad[posicion_trimestre]\n",
    "print(x[1])\n"
   ]
  },
  {
   "cell_type": "markdown",
   "id": "cb106e58",
   "metadata": {},
   "source": [
    "#Crea un codi que permeti accedir els mesos del primer trimestre."
   ]
  },
  {
   "cell_type": "code",
   "execution_count": 81,
   "id": "5cfdf15a-2c2f-4ddf-826c-f407164aba0e",
   "metadata": {},
   "outputs": [
    {
     "name": "stdout",
     "output_type": "stream",
     "text": [
      "['Enero', 'Febrero', 'Marzo']\n"
     ]
    }
   ],
   "source": [
    "print(lista_anualidad[0])"
   ]
  },
  {
   "cell_type": "markdown",
   "id": "e6dc42a0",
   "metadata": {},
   "source": [
    "#Crea un codi que permeti accedir a setembre i octubre."
   ]
  },
  {
   "cell_type": "code",
   "execution_count": 82,
   "id": "4c00d125-27e8-459e-9fa9-f3d2c8f1a390",
   "metadata": {},
   "outputs": [
    {
     "name": "stdout",
     "output_type": "stream",
     "text": [
      "Septiembre Octubre\n"
     ]
    }
   ],
   "source": [
    "print(listaT3[2], listaT4[0])"
   ]
  },
  {
   "cell_type": "markdown",
   "id": "4ec4d4c5",
   "metadata": {},
   "source": [
    "#Exercici 3\n",
    "\n",
    "#Crea una llista amb nombres desordenats i respón a les preguntes:"
   ]
  },
  {
   "cell_type": "code",
   "execution_count": 83,
   "id": "1fe63339-f9e8-4fd1-996e-f034127ac135",
   "metadata": {},
   "outputs": [
    {
     "name": "stdout",
     "output_type": "stream",
     "text": [
      "[2, 3, 23, 7, 8, 5, 15, 3, 0, 10, 35, 6, 4, 42, 28]\n",
      "<class 'list'>\n"
     ]
    }
   ],
   "source": [
    "lista_numeros=[2,3,23,7,8,5,15,3,0,10,35,6,4,42,28]\n",
    "print(lista_numeros)\n",
    "print(type(lista_numeros))\n"
   ]
  },
  {
   "cell_type": "markdown",
   "id": "c6e77478",
   "metadata": {},
   "source": [
    "#Quants números hi ha?"
   ]
  },
  {
   "cell_type": "code",
   "execution_count": 84,
   "id": "a6b8b6fe-389d-4662-933d-3f1a7555b0e9",
   "metadata": {},
   "outputs": [
    {
     "name": "stdout",
     "output_type": "stream",
     "text": [
      "15\n"
     ]
    }
   ],
   "source": [
    "print(len(lista_numeros))"
   ]
  },
  {
   "cell_type": "markdown",
   "id": "387e9287",
   "metadata": {},
   "source": [
    "#Quantes vegades apareix el número 3?"
   ]
  },
  {
   "cell_type": "code",
   "execution_count": 85,
   "id": "f9b84699-fab8-4643-a796-9c18a08f7843",
   "metadata": {},
   "outputs": [
    {
     "data": {
      "text/plain": [
       "2"
      ]
     },
     "execution_count": 85,
     "metadata": {},
     "output_type": "execute_result"
    }
   ],
   "source": [
    "lista_numeros.count(3)\n"
   ]
  },
  {
   "cell_type": "markdown",
   "id": "0c42a8ab",
   "metadata": {},
   "source": [
    "#Quantes vegades apareixen els nombres 3 i 4?"
   ]
  },
  {
   "cell_type": "code",
   "execution_count": 86,
   "id": "c997b288-04e8-429c-a5ed-60b7701004ed",
   "metadata": {},
   "outputs": [
    {
     "name": "stdout",
     "output_type": "stream",
     "text": [
      "El número 3 apareix  2 vegades, i el número 4 apareix  1 vegades.\n"
     ]
    }
   ],
   "source": [
    "x=lista_numeros.count(3)\n",
    "y=lista_numeros.count(4)\n",
    "\n",
    "print(\"El número 3 apareix \", x, \"vegades, i el número 4 apareix \", y, \"vegades.\")\n",
    "\n"
   ]
  },
  {
   "cell_type": "markdown",
   "id": "1136af64",
   "metadata": {},
   "source": [
    "#Quin és el número més gran?"
   ]
  },
  {
   "cell_type": "code",
   "execution_count": 87,
   "id": "7a24260b-f342-42ce-bd74-d020bd5ff7ce",
   "metadata": {},
   "outputs": [
    {
     "name": "stdout",
     "output_type": "stream",
     "text": [
      "[0, 2, 3, 3, 4, 5, 6, 7, 8, 10, 15, 23, 28, 35, 42]\n",
      "15\n",
      "42\n",
      "El número més gran és el  42 .\n"
     ]
    }
   ],
   "source": [
    "lista_numeros.sort()\n",
    "print(lista_numeros)\n",
    "print(len(lista_numeros))\n",
    "print(lista_numeros[len(lista_numeros)-1])\n",
    "z=lista_numeros[len(lista_numeros)-1]\n",
    "print(\"El número més gran és el \",z,\".\")\n",
    "\n"
   ]
  },
  {
   "cell_type": "markdown",
   "id": "4774d691",
   "metadata": {},
   "source": [
    "#Quins son els tres números més petits?"
   ]
  },
  {
   "cell_type": "code",
   "execution_count": 88,
   "id": "ad5fce57-cb47-4063-9f51-2238da04f9c3",
   "metadata": {},
   "outputs": [
    {
     "name": "stdout",
     "output_type": "stream",
     "text": [
      "0\n",
      "2\n",
      "3\n"
     ]
    }
   ],
   "source": [
    "for i in range(0,3):\n",
    "    print(lista_numeros[i])\n",
    " \n",
    "    \n",
    "\n",
    "\n"
   ]
  },
  {
   "cell_type": "markdown",
   "id": "c9284c33",
   "metadata": {},
   "source": [
    "#Quin és el rang d'aquesta llista?"
   ]
  },
  {
   "cell_type": "code",
   "execution_count": 89,
   "id": "87d6abbc-baef-4d62-af2c-0b2b24876615",
   "metadata": {},
   "outputs": [
    {
     "name": "stdout",
     "output_type": "stream",
     "text": [
      "El rango de la lista es  14 .\n"
     ]
    }
   ],
   "source": [
    "rango=len(lista_numeros)-1\n",
    "print(\"El rango de la lista es \",rango,\".\")\n",
    "\n",
    "\n",
    "\n",
    "\n",
    "\n"
   ]
  },
  {
   "cell_type": "markdown",
   "id": "56153717",
   "metadata": {},
   "source": [
    "#Exercici 4\n",
    "#Crea un diccionari de la següent forma i respòn a les preguntes:"
   ]
  },
  {
   "cell_type": "code",
   "execution_count": 125,
   "id": "45e4b0f0",
   "metadata": {},
   "outputs": [],
   "source": [
    "compra = { \"Pomes\" : {\"Qty\": 5, \"€\": 0.42}, \"Peres\" : {\"Qty\": 3, \"€\": 0.66} }\n",
    "\n"
   ]
  },
  {
   "cell_type": "code",
   "execution_count": 126,
   "id": "ab95d022",
   "metadata": {},
   "outputs": [
    {
     "data": {
      "text/plain": [
       "dict"
      ]
     },
     "execution_count": 126,
     "metadata": {},
     "output_type": "execute_result"
    }
   ],
   "source": [
    "type(compra)"
   ]
  },
  {
   "cell_type": "markdown",
   "id": "1d07e723",
   "metadata": {},
   "source": [
    "#Afegeix alguna fruita més"
   ]
  },
  {
   "cell_type": "code",
   "execution_count": 127,
   "id": "cbaa73c4",
   "metadata": {},
   "outputs": [
    {
     "name": "stdout",
     "output_type": "stream",
     "text": [
      "{'Pomes': {'Qty': 5, '€': 0.42}, 'Peres': {'Qty': 3, '€': 0.66}, 'taronges': {'Qty': 6, '€': 0.73}}\n"
     ]
    }
   ],
   "source": [
    "compra.update({\"taronges\" : {\"Qty\": 6, \"€\": 0.73}})\n",
    "print(compra)"
   ]
  },
  {
   "cell_type": "markdown",
   "id": "3cf4ccf6",
   "metadata": {},
   "source": [
    "#Quant han costat les peres en total?"
   ]
  },
  {
   "cell_type": "code",
   "execution_count": 128,
   "id": "cf101a29",
   "metadata": {},
   "outputs": [
    {
     "ename": "SyntaxError",
     "evalue": "invalid syntax. Perhaps you forgot a comma? (3780083943.py, line 8)",
     "output_type": "error",
     "traceback": [
      "\u001b[1;36m  Cell \u001b[1;32mIn[128], line 8\u001b[1;36m\u001b[0m\n\u001b[1;33m    print(compra[[1]1])\u001b[0m\n\u001b[1;37m                 ^\u001b[0m\n\u001b[1;31mSyntaxError\u001b[0m\u001b[1;31m:\u001b[0m invalid syntax. Perhaps you forgot a comma?\n"
     ]
    }
   ],
   "source": [
    "cost_total_pomes={\"Qty\": 5, \"€\": 0.42}\n",
    "type(cost_total_pomes)\n",
    "cost_total_peres={'Qty': 3, '€': 0.66}\n",
    "type(cost_total_peres)\n",
    "cost_total_taronges={\"Qty\": 6, \"€\": 0.73}\n",
    "type(cost_total_taronges)\n",
    "\n",
    "print(compra[[1]1])"
   ]
  },
  {
   "cell_type": "markdown",
   "id": "e56a4cf7",
   "metadata": {},
   "source": [
    "#Quantes fruites hem comprat en total?"
   ]
  },
  {
   "cell_type": "code",
   "execution_count": null,
   "id": "31ec5625",
   "metadata": {},
   "outputs": [],
   "source": []
  },
  {
   "cell_type": "markdown",
   "id": "8c8c8707",
   "metadata": {},
   "source": [
    "#Quina és la fruita més cara?"
   ]
  },
  {
   "cell_type": "code",
   "execution_count": null,
   "id": "4601a364",
   "metadata": {},
   "outputs": [],
   "source": []
  }
 ],
 "metadata": {
  "kernelspec": {
   "display_name": "Python 3 (ipykernel)",
   "language": "python",
   "name": "python3"
  },
  "language_info": {
   "codemirror_mode": {
    "name": "ipython",
    "version": 3
   },
   "file_extension": ".py",
   "mimetype": "text/x-python",
   "name": "python",
   "nbconvert_exporter": "python",
   "pygments_lexer": "ipython3",
   "version": "3.10.9"
  }
 },
 "nbformat": 4,
 "nbformat_minor": 5
}
