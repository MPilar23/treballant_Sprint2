{
 "cells": [
  {
   "cell_type": "markdown",
   "id": "719ed94d-8b38-46d2-ac3c-6bd2da5f8093",
   "metadata": {},
   "source": [
    "#Tasca M2 T02"
   ]
  },
  {
   "cell_type": "markdown",
   "id": "0d138ab7-a1ad-4c1e-965c-6b66b3be4e97",
   "metadata": {},
   "source": [
    "#Exercici 1\n",
    "#L'exercici consisteix a crear una funció que et classifiqui una variable numèrica en funció de l’escala Suspès/Aprovat/Notable/Excel·lent.\r\n",
    "#\r\n",
    "Recorda que Suspès < 5, Aprovat > 5 i < 7, Notable > 7 i < 9 i Excel·lent > 9."
   ]
  },
  {
   "cell_type": "code",
   "execution_count": 2,
   "id": "b638abc5-2226-475f-8a68-f09d4f43e3d3",
   "metadata": {},
   "outputs": [
    {
     "name": "stdout",
     "output_type": "stream",
     "text": [
      "La nota del curs és  Excel·lent . Felicitats!\n"
     ]
    }
   ],
   "source": [
    "\n",
    "\n",
    "escala_notes=[\"Suspens\", \"Aprovat\", \"Notable\", \"Excel·lent\"]\n",
    "#per exemple si la nota és un 9\n",
    "x=9\n",
    "if x < 5:\n",
    "   print(\"La nota del curs és \",escala_notes[0],\".\")\n",
    "elif x >= 5 and x < 7:\n",
    "   print(\"La nota del curs és \",escala_notes[1],\".\")\n",
    "elif x >= 7 and x < 9:\n",
    "   print(\"La nota del curs és \",escala_notes[2],\".\")  \n",
    "else:\n",
    "   print(\"La nota del curs és \",escala_notes[3],\". Felicitats!\")\n",
    "\n"
   ]
  },
  {
   "cell_type": "markdown",
   "id": "59ba6cd2-01f0-435a-987d-30a89e8ce784",
   "metadata": {},
   "source": [
    "#Exercici 2\n",
    "#Utilitzant el següent tutorial crea una funció que et pregunti dos números.\n",
    "#T’ha de mostrar un missatge dient si el primer és més gran, el segon és més gran o són iguals.\n",
    "\n",
    "#Programiz: Python Input, Output and Import"
   ]
  },
  {
   "cell_type": "code",
   "execution_count": 9,
   "id": "418b2a83-e524-41a7-98f3-eee8c3fb4db7",
   "metadata": {},
   "outputs": [
    {
     "name": "stdin",
     "output_type": "stream",
     "text": [
      "introdueix el primer número:  8\n",
      "introdueix el segon número:  5\n"
     ]
    },
    {
     "name": "stdout",
     "output_type": "stream",
     "text": [
      "Has introduït els números:  8 , 5\n",
      "El primer número , 8 , és més gran que el segon  5 .\n"
     ]
    }
   ],
   "source": [
    "x=input(\"introdueix el primer número: \")\n",
    "y=input(\"introdueix el segon número: \")\n",
    "print(\"Has introduït els números: \", x,\",\",y)\n",
    "if x == y:\n",
    "   print(\"El primer número ,\",x,\", és igual que el segon \",y,\".\")\n",
    "elif x > y:\n",
    "   print(\"El primer número ,\",x,\", és més gran que el segon \",y,\".\")\n",
    "elif x < y:\n",
    "   print(\"El segon número ,\",y,\", és més gran que el primer \",x,\".\")\n",
    "    "
   ]
  },
  {
   "cell_type": "markdown",
   "id": "e1e41dac-5ba6-4a2d-bd23-510609194628",
   "metadata": {},
   "source": [
    "#Exercici 3\r",
    "#\n",
    "Crea una funció que et pregunti el teu nom, i et demani un número. Si el número és 0, hauria de mostrar un missatge d’error\n",
    "# En cas contrari, hauria de mostrar el nom repetit tants cops com indiqui el número. Per exemple, “Joan Joan Joan”."
   ]
  },
  {
   "cell_type": "code",
   "execution_count": null,
   "id": "6cd609e0-767d-4b3c-b49d-e3b95fe3d373",
   "metadata": {},
   "outputs": [],
   "source": []
  },
  {
   "cell_type": "markdown",
   "id": "9aaa73f9-df89-46c2-86b1-bb1463bcc614",
   "metadata": {},
   "source": [
    "# Exercici 4\r",
    "#\n",
    "Crea una funció que donada una llista qualsevol, et digui si és simètrica o no. Si ho és, que et digui quants elements té."
   ]
  },
  {
   "cell_type": "code",
   "execution_count": null,
   "id": "646fc928-1080-41f1-893f-e08b55add670",
   "metadata": {},
   "outputs": [],
   "source": []
  }
 ],
 "metadata": {
  "kernelspec": {
   "display_name": "Python 3 (ipykernel)",
   "language": "python",
   "name": "python3"
  },
  "language_info": {
   "codemirror_mode": {
    "name": "ipython",
    "version": 3
   },
   "file_extension": ".py",
   "mimetype": "text/x-python",
   "name": "python",
   "nbconvert_exporter": "python",
   "pygments_lexer": "ipython3",
   "version": "3.12.0"
  }
 },
 "nbformat": 4,
 "nbformat_minor": 5
}
